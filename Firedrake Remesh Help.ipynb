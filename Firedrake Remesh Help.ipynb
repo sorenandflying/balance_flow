{
 "cells": [
  {
   "cell_type": "code",
   "execution_count": null,
   "id": "18f1913a-68b2-4f3c-b5af-6c08c1b2f894",
   "metadata": {},
   "outputs": [],
   "source": [
    "import firedrake\n",
    "import matplotlib.pyplot as plt\n",
    "import numpy as np\n",
    "\n",
    "# Initialize test mesh\n",
    "Lx_0 = 10\n",
    "nx = 10\n",
    "deg = 2\n",
    "\n",
    "mesh_0 = firedrake.IntervalMesh(nx, Lx_0)\n",
    "Q_0 = firedrake.FunctionSpace(mesh_0, \"CG\", deg)"
   ]
  },
  {
   "cell_type": "code",
   "execution_count": null,
   "id": "6cba8495-0f57-472c-b87a-a70f1b44cbe8",
   "metadata": {},
   "outputs": [],
   "source": [
    "# Define simple function\n",
    "from firedrake import sin\n",
    "x_0, = firedrake.SpatialCoordinate(mesh_0)\n",
    "f_0 = firedrake.interpolate(sin(x_0*3.14159),Q_0);\n",
    "\n",
    "# Display function\n",
    "fig, axes = plt.subplots()\n",
    "firedrake.plot(f_0, axes = axes);"
   ]
  },
  {
   "cell_type": "code",
   "execution_count": null,
   "id": "37e230fa-291b-4085-b37c-4a15ed7f6cc7",
   "metadata": {},
   "outputs": [],
   "source": [
    "# Define specs of new mesh and function space\n",
    "Lx_1 = 5\n",
    "mesh_1 = firedrake.IntervalMesh(nx, Lx_0)\n",
    "Q_1 = firedrake.FunctionSpace(mesh_1, \"CG\", deg)"
   ]
  },
  {
   "cell_type": "code",
   "execution_count": null,
   "id": "531800bd-3193-497f-b3b9-1a8a6561f2dd",
   "metadata": {},
   "outputs": [],
   "source": [
    "# https://www.firedrakeproject.org/mesh-coordinates.html\n",
    "# f_3 = firedrake.Function(firedrake.functionspaceimpl.WithGeometry.create(\n",
    "#     f_0.function_space(), mesh_1), val=f_0.topological)\n",
    "\n",
    "# https://www.firedrakeproject.org/interpolation.html#interpolation-across-meshes\n",
    "# f_3 = firedrake.interpolate(f_0, Q_1, allow_missing_dofs=True)\n",
    "# f_3 = firedrake.interpolate(f_0, Q_1)\n",
    "\n"
   ]
  },
  {
   "cell_type": "code",
   "execution_count": null,
   "id": "7e05592e-5ff9-458e-a069-33d68e923de0",
   "metadata": {},
   "outputs": [],
   "source": [
    "# Interpolating to a new mesh throws an error\n",
    "f_1 = firedrake.interpolate(f_0, Q_1, allow_missing_dofs=True)"
   ]
  },
  {
   "cell_type": "code",
   "execution_count": null,
   "id": "9960cd04-5048-48d2-80fe-0dadd02ac528",
   "metadata": {
    "scrolled": true
   },
   "outputs": [],
   "source": [
    "# Evaluating the function at mesh points throws an error\n",
    "x_2, = firedrake.SpatialCoordinate(mesh_1)\n",
    "f_2 = firedrake.interpolate(f_0.at(x_2), Q_1)"
   ]
  },
  {
   "cell_type": "code",
   "execution_count": null,
   "id": "c7c3019f-a485-41bf-9b40-d126ca151309",
   "metadata": {},
   "outputs": [],
   "source": [
    "# Directly altering mesh changes coordinates, but squishes function after interpolation\n",
    "mesh_0.coordinates.dat.data[:] *= Lx_1/Lx_0\n",
    "f_2 = firedrake.interpolate(f_0, Q_0)\n",
    "\n",
    "fig, axes = plt.subplots()\n",
    "firedrake.plot(f_2, axes = axes);"
   ]
  },
  {
   "cell_type": "code",
   "execution_count": null,
   "id": "9e1207c5-24dd-4126-b428-2978ccdac807",
   "metadata": {},
   "outputs": [],
   "source": [
    "import icepack\n",
    "f_3 = icepack.interpolate(f_0, Q_1)"
   ]
  },
  {
   "cell_type": "code",
   "execution_count": null,
   "id": "c23d5b68-355a-48d2-a9fe-5d57edb77fd7",
   "metadata": {},
   "outputs": [],
   "source": []
  }
 ],
 "metadata": {
  "kernelspec": {
   "display_name": "Python 3 (ipykernel)",
   "language": "python",
   "name": "python3"
  },
  "language_info": {
   "codemirror_mode": {
    "name": "ipython",
    "version": 3
   },
   "file_extension": ".py",
   "mimetype": "text/x-python",
   "name": "python",
   "nbconvert_exporter": "python",
   "pygments_lexer": "ipython3",
   "version": "3.10.12"
  }
 },
 "nbformat": 4,
 "nbformat_minor": 5
}
