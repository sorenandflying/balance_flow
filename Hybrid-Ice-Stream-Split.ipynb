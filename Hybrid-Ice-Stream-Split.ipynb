{
 "cells": [
  {
   "cell_type": "markdown",
   "id": "28cf02b8-b225-493d-b5f6-9958466eb92e",
   "metadata": {},
   "source": [
    "## Hybrid Ice Stream Split\n",
    "\n",
    "Trying to change the bed geometry to slope in both directions, and include accumulation zone instead of boundary condition."
   ]
  },
  {
   "cell_type": "markdown",
   "id": "5b723406-8b82-4e45-b73e-19de1c4adda2",
   "metadata": {},
   "source": [
    "Import firedrake and set initial conditions."
   ]
  },
  {
   "cell_type": "code",
   "execution_count": null,
   "id": "8f91fb3c-e854-463a-9538-090d467c8254",
   "metadata": {},
   "outputs": [],
   "source": [
    "import firedrake\n",
    "import icepack\n",
    "import matplotlib.pyplot as plt\n",
    "import numpy as np\n",
    "\n",
    "Lx = 100e3\n",
    "nx = 72\n",
    "\n",
    "mesh1d = firedrake.IntervalMesh(nx, Lx)\n",
    "mesh = firedrake.ExtrudedMesh(mesh1d, layers=1)"
   ]
  },
  {
   "cell_type": "markdown",
   "id": "184d7765-1794-46d8-96bf-80fce27da198",
   "metadata": {},
   "source": [
    "Set up function spaces for the scalars (Q) and vectors (V) for the 2D mesh."
   ]
  },
  {
   "cell_type": "code",
   "execution_count": null,
   "id": "877f3f61-a656-438e-8171-bfe119c1624f",
   "metadata": {},
   "outputs": [],
   "source": [
    "Q = firedrake.FunctionSpace(mesh, \"CG\", 2, vfamily=\"R\", vdegree=0)\n",
    "V = firedrake.FunctionSpace(mesh, \"CG\", 2, vfamily=\"GL\", vdegree=2)"
   ]
  },
  {
   "cell_type": "markdown",
   "id": "4f103e41-1d03-4f54-a8e7-9a4358a7eed5",
   "metadata": {},
   "source": [
    "Import a couple constant values from icepack."
   ]
  },
  {
   "cell_type": "code",
   "execution_count": null,
   "id": "8414a50b-dd0a-4365-9636-b2d9aced47c1",
   "metadata": {},
   "outputs": [],
   "source": [
    "from icepack.constants import(\n",
    "    ice_density as rho_ice,           # ρ_I | 9.21e-19\n",
    "    water_density as rho_water,       # ρ_W | 1.03e-18\n",
    "    weertman_sliding_law as weertman, # m   | 3.0\n",
    "    gravity as g,                     # g   | 9.77e15\n",
    ")"
   ]
  },
  {
   "cell_type": "markdown",
   "id": "88bed7b6-1890-437e-a692-bdd378d24d63",
   "metadata": {},
   "source": [
    "Set up spatial coordinates and parameterize bed and surface geometry.\n",
    "\n",
    "$\\tau_D$ = driving stress\n",
    "\n",
    "$$\n",
    "\\tau_D = -\\rho_{ice} \\times g \\times h_{in} \\times \\frac{\\delta s}{\\delta x}\n",
    "$$\n",
    "\n",
    "where $g = $ gravity\n",
    "\n",
    "$h_{in} = $ incoming height\n",
    "\n",
    "$\\frac{\\delta s}{\\delta x}$ = surface slope"
   ]
  },
  {
   "cell_type": "code",
   "execution_count": null,
   "id": "1c370e09-5c5f-4c63-9894-ed0c7e2ddc48",
   "metadata": {},
   "outputs": [],
   "source": [
    "from firedrake import max_value, min_value\n",
    "from firedrake import conditional, eq, ne, le, ge, lt, gt\n",
    "\n",
    "x, z = firedrake.SpatialCoordinate(mesh)\n",
    "\n",
    "b_in, b_out = 100, -500\n",
    "base_x = b_in - (b_in - b_out) * x/Lx\n",
    "b = firedrake.interpolate(base_x, Q)\n",
    "\n",
    "s_in, s_out = 850, 0\n",
    "surface_x = s_in - (s_in - s_out) * x/Lx\n",
    "s0 = firedrake.interpolate(surface_x, Q)\n",
    "\n",
    "height_x = s0 - b\n",
    "h0 = firedrake.interpolate(height_x, Q) # Scalar function space\n",
    "\n",
    "h_in = s_in - b_in\n",
    "surface_slope = (s_out - s_in) / Lx # δs_δx\n",
    "tau_D = -rho_ice * g * h_in * surface_slope # driving stress"
   ]
  },
  {
   "cell_type": "markdown",
   "id": "9c09f217-e9fb-49f2-acf1-29ea0c0626a1",
   "metadata": {},
   "source": [
    "Check what the profile looks like."
   ]
  },
  {
   "cell_type": "code",
   "execution_count": null,
   "id": "e6e71b64-6dd4-4da8-89dd-5198050b1713",
   "metadata": {},
   "outputs": [],
   "source": [
    "fig, axes = plt.subplots()\n",
    "axes.set_xlabel(\"distance along centerline (m)\")\n",
    "axes.set_ylabel(\"elevation (m)\")\n",
    "\n",
    "firedrake.plot(icepack.depth_average(b), edgecolor=\"tab:brown\", axes=axes)\n",
    "zb0 = firedrake.interpolate(s0-h0, Q)\n",
    "firedrake.plot(icepack.depth_average(zb0), edgecolor=\"tab:blue\", axes = axes)\n",
    "firedrake.plot(icepack.depth_average(s0), edgecolor=\"tab:blue\", axes = axes);"
   ]
  },
  {
   "cell_type": "markdown",
   "id": "960bc073-8625-497b-a205-c74761a69418",
   "metadata": {},
   "source": [
    "Estimate intial velocities, increasing exponentially towards the terminus.\n",
    "\n",
    "$$\n",
    "u_x = u_{in} + (u_{out} - u_{in}) * \\left(\\frac{x}{Lx}\\right)^2\n",
    "$$\n",
    "\n",
    "Just an interpolation between $u_{in}$ and $u_{out}$ using a square."
   ]
  },
  {
   "cell_type": "code",
   "execution_count": null,
   "id": "a66b3347-373f-4411-9bd9-a66ed5832449",
   "metadata": {},
   "outputs": [],
   "source": [
    "u_in, u_out = 20, 2400\n",
    "velocity_x = u_in + (u_out - u_in) * (x / Lx)**2\n",
    "u0 = firedrake.interpolate(velocity_x,V) # Vector function space"
   ]
  },
  {
   "cell_type": "code",
   "execution_count": null,
   "id": "08a044d3-afd7-4035-8e41-b7a374462082",
   "metadata": {},
   "outputs": [],
   "source": [
    "fig, axes = plt.subplots()\n",
    "axes.set_xlabel(\"distance along centerline (m)\")\n",
    "axes.set_ylabel(\"velocity (m/yr)\")\n",
    "firedrake.plot(icepack.depth_average(u0), edgecolor=\"tab:blue\", axes=axes);"
   ]
  },
  {
   "cell_type": "markdown",
   "id": "8b6f0115-2849-46d7-b650-387b4891db5c",
   "metadata": {},
   "source": [
    "Set up icepack values.\n",
    "\n",
    "water pressure = water density * gravity * amount of ice under the water line (elevation = 0)\n",
    "ice pressure = ice density * gravity * ice height\n",
    "phi = ramping function for friction.\n",
    "- If no water pressure, then phi = 1.\n",
    "- If ice pressure equals water pressure, then phi = 0.\n",
    "\n",
    "$C$ = Friction Coeff\n",
    "\n",
    "$$\n",
    "C = (0.95 - 0.05 \\frac{x}{Lx}) \\times \\frac{\\tau_D}{u_{in}^{1/3}}\n",
    "$$\n",
    "\n",
    "where $\\tau_D =$ driving stress\n",
    "and $u_{in} = $ incoming velocity at source\n",
    "\n",
    "Expanding the driving stress, this is\n",
    "\n",
    "$$\n",
    "C = -\\left(0.95 - 0.05 \\frac{x}{Lx}\\right) \\times \\frac{\\rho_{ice} \\times g \\times h_{in} \\times \\frac{\\delta s}{\\delta x}}{u_{in}^{1/3}}\n",
    "$$\n",
    "\n",
    "$C$ decreases slightly along length, then is a ratio of driving stress and incoming velocity"
   ]
  },
  {
   "cell_type": "code",
   "execution_count": null,
   "id": "ddd7de72-301a-4d47-9dc5-27b84b75c97a",
   "metadata": {},
   "outputs": [],
   "source": [
    "Temperature = firedrake.Constant(255.0) # -18 deg C\n",
    "A = icepack.rate_factor(Temperature) # flow rate factor\n",
    "\n",
    "C = firedrake.interpolate((0.95 - 0.05 * x/Lx) * tau_D / u_in ** (1/weertman), Q) # Friction Coeff"
   ]
  },
  {
   "cell_type": "markdown",
   "id": "ed58d864-17a2-43b0-b46a-411b3e8d7679",
   "metadata": {},
   "source": [
    "$\\phi$ = relative pressure at that point\n",
    "\n",
    "$p_w =$ upward pressure of submerged ice\n",
    "\n",
    "$p_I = $ downward pressure of unsubmerged ice"
   ]
  },
  {
   "cell_type": "code",
   "execution_count": null,
   "id": "f239fc9d-2494-4ac1-9bb1-ce3cf3f677ce",
   "metadata": {},
   "outputs": [],
   "source": [
    "p_water = rho_water * g * max_value(0, h0 - s0) # Prevents negative thickness\n",
    "p_ice = rho_ice * g * h0\n",
    "phi = 1 - p_water / p_ice # Are there issues if phi = 0?"
   ]
  },
  {
   "cell_type": "markdown",
   "id": "5a56b619-34a0-4427-951b-8fefa62bc377",
   "metadata": {},
   "source": [
    "#### Weertman friction\n",
    "The law defines the driving stress as\n",
    "\n",
    "$$\n",
    "\\tau_b = -C|u|^{\\frac{1}{m}-1}u\n",
    "$$\n",
    "\n",
    "And the energy dissipation is\n",
    "\n",
    "$$\n",
    "E(u) = \\int \\frac{m}{m + 1}C|u|^{\\frac{1}{m} + 1}dx.\n",
    "$$\n",
    "\n",
    "Weertman is already implemented in Icepack in the `icepack.models.hybrid.bed_friction(velocity = u, friction = C*phi)` function below.\n",
    "\n",
    "#### Schoof friction approximation\n",
    "\n",
    "This is implemented in the Synthetic Flowline Ice Stream tutorial as an approximation of the Schoof sliding law. When the velocity is small, energy dissipation acts relative to $|u|^1$, and when it is large, it acts relative to $|u|^{\\frac{1}{m}+1}$. The factor $-U_0$ means that there is no flow when there is no energy dissipation.\n",
    "\n",
    "$$\n",
    "E(u) = \\int \\tau_0 \\left( \\left( U_0^{\\frac{1}{m}+1}+|u|^{\\frac{1}{m}+1}\\right)^{\\frac{m}{m+1}} - U_0 \\right) dx\n",
    "$$\n",
    "\n",
    "In the implementation, $\\tau_0$ is\n",
    "\n",
    "$$\n",
    "\\tau_0 = C \\left( U_0^{\\frac{1}{m+1}} + U^{\\frac{1}{m+1}}\\right)^{\\frac{1}{m+1}}\n",
    "$$\n",
    "\n",
    "$\\phi$ is implemented the same as above, where the amount of water displaced is the height of ice submerged $h_{sub} = h-s$\n",
    "\n",
    "$$\n",
    "\\phi = 1 - \\frac{\\rho_{water}}{\\rho_{ice}} \\frac{(h_{sub})}{h_{supra}}\n",
    "$$\n",
    "\n",
    "Finally, friction is calculated as\n",
    "\n",
    "$$\n",
    "\\tau_0 \\times \\phi \\times \\left(\\left(U_0^{\\frac{1}{m+1}} + U^{\\frac{1}{m+1}} \\right)^{\\frac{1}{m+1}} - U_0 \\right)\n",
    "$$\n",
    "\n",
    "#### True Scoof friction\n",
    "\n",
    "For a truer implementation of schoof friction, the driving stress is \n",
    "\n",
    "$$\n",
    "\\tau_b = -C \\left(\\frac{|u|}{|u|+u_c}\\right)^{\\frac{1}{m}}\\frac{u}{|u|}\n",
    "$$"
   ]
  },
  {
   "cell_type": "code",
   "execution_count": null,
   "id": "8bed56fc",
   "metadata": {},
   "outputs": [],
   "source": [
    "from firedrake import sqrt, inner\n",
    "\n",
    "U_0 = firedrake.Constant(50) \n",
    "U = sqrt(inner(u, u)) # Sqrt of dot product, a way to get the magnitude of u\n",
    "tau_0 = firedrake.interpolate(\n",
    "    C*( U_0**(1/m+1) + U**(1/m+1) )**(1/(m+1)), Q\n",
    ")"
   ]
  },
  {
   "cell_type": "code",
   "execution_count": null,
   "id": "518a4ab2-9c17-425c-8c16-118d6d6b615f",
   "metadata": {},
   "outputs": [],
   "source": [
    "import icepack.models.hybrid\n",
    "\n",
    "## Weertman friction\n",
    "def weertman_friction(**kwargs):\n",
    "    u = kwargs[\"velocity\"]\n",
    "    h = kwargs[\"thickness\"]\n",
    "    s = kwargs[\"surface\"]\n",
    "    C = kwargs[\"friction\"]\n",
    "\n",
    "    # Update pressures\n",
    "    p_water = rho_water * g * firedrake.max_value(0, h - s)\n",
    "    p_ice = rho_ice * g * h\n",
    "    phi = 1 - p_water/p_ice\n",
    "    \n",
    "    return icepack.models.hybrid.bed_friction(\n",
    "        velocity = u,\n",
    "        friction = C * phi,\n",
    "    )\n",
    "\n",
    "def schoof_approx_friction(**kwargs):\n",
    "    u = kwargs[\"velocity\"]\n",
    "    h = kwargs[\"thickness\"]\n",
    "    s = kwargs[\"surface\"]\n",
    "    C = kwargs[\"friction\"]\n",
    "    \n",
    "    # Update pressures\n",
    "    p_water = rho_water * g * firedrake.max_value(0, h - s)\n",
    "    p_ice = rho_ice * g * h\n",
    "    phi = 1 - p_water/p_ice\n",
    "\n",
    "    U = sqrt(inner(u, u))\n",
    "    return tau_0 * phi * (\n",
    "        (U_0**(1/m+1) + U**(1/m+1))**(m/(m+1))-U_0\n",
    "    )"
   ]
  },
  {
   "cell_type": "markdown",
   "id": "ad629d30-3318-4675-b100-20e20b421591",
   "metadata": {},
   "source": [
    "Set up hybrid model solver with custom friction function and initialize the velocity field."
   ]
  },
  {
   "cell_type": "code",
   "execution_count": null,
   "id": "b45c766f-bd3b-403f-9b29-061f433644f1",
   "metadata": {},
   "outputs": [],
   "source": [
    "model = icepack.models.HybridModel(friction = schoof_approx_friction)\n",
    "opts = {\n",
    "    \"dirichlet_ids\": [1],\n",
    "    #\"diagnostic_solver_type\": \"petsc\",\n",
    "    #\"diagnostic_solver_parameters\": {\"snes_type\": \"newtontr\"},\n",
    "}\n",
    "\n",
    "solver = icepack.solvers.FlowSolver(model, **opts)\n",
    "\n",
    "u0 = solver.diagnostic_solve(\n",
    "    velocity = u0,\n",
    "    thickness = h0,\n",
    "    surface = s0,\n",
    "    fluidity = A,\n",
    "    friction = C,\n",
    ")"
   ]
  },
  {
   "cell_type": "markdown",
   "id": "451c3b3b-10cd-4ca0-b7eb-ac6f47b13da3",
   "metadata": {},
   "source": [
    "Plot new initial velocities."
   ]
  },
  {
   "cell_type": "code",
   "execution_count": null,
   "id": "81beb818-53c7-4962-9fc3-b1c6566aab77",
   "metadata": {},
   "outputs": [],
   "source": [
    "fig, axes = plt.subplots()\n",
    "axes.set_xlabel(\"distance (m)\")\n",
    "axes.set_ylabel(\"speed (m / yr)\")\n",
    "firedrake.plot(icepack.depth_average(u0), axes=axes);"
   ]
  },
  {
   "cell_type": "markdown",
   "id": "82762f39-b265-4e73-9068-6d9c802de127",
   "metadata": {},
   "source": [
    "### Run the actual model"
   ]
  },
  {
   "cell_type": "code",
   "execution_count": null,
   "id": "edaac337-0f88-43ea-b296-4c18f568b05d",
   "metadata": {},
   "outputs": [],
   "source": [
    "h_min = 10\n",
    "h_calving = 50\n",
    "cal_step = h_calving - h_min\n"
   ]
  },
  {
   "cell_type": "code",
   "execution_count": null,
   "id": "dc376857-ef34-473c-a251-e4dc624d409a",
   "metadata": {},
   "outputs": [],
   "source": [
    "import tqdm\n",
    "\n",
    "num_years = 250\n",
    "timesteps_per_year = 2\n",
    "\n",
    "dt = 1.0 / timesteps_per_year\n",
    "num_timesteps = num_years * timesteps_per_year\n",
    "\n",
    "a = firedrake.interpolate(1.7 - 4.7 * x / Lx, Q) # Ramping accumulation along length\n",
    "h = h0.copy(deepcopy = True)\n",
    "u = u0.copy(deepcopy = True)\n",
    "\n",
    "height_min1 = np.zeros(num_timesteps) * np.nan\n",
    "height_min2 = np.zeros(num_timesteps) * np.nan\n",
    "\n",
    "for step in tqdm.trange(num_timesteps):\n",
    "    h = solver.prognostic_solve(\n",
    "        dt,\n",
    "        thickness = h,\n",
    "        velocity = u,\n",
    "        accumulation = a,\n",
    "        thickness_inflow = h0,\n",
    "    )\n",
    "\n",
    "    height_min1[step] = h.dat.data_ro.min()\n",
    "\n",
    "    h = icepack.interpolate(conditional(lt(h,h_calving),h_min,h),Q) # Calving to minimum stable value (use UFL for functions)\n",
    "\n",
    "    # smooth_h = icepack.interpolate(1-(h-h_min)/cal_step,Q)\n",
    "    # h = icepack.interpolate(conditional(lt(h,h_calving),(3*smooth_h**2-2*smooth_h**3)*cal_step+h_min,h),Q)\n",
    "    # h = icepack.interpolate(max_value(h,h_min),Q) # Minimum value for stability\n",
    "    \n",
    "    s = icepack.compute_surface(thickness=h, bed=b)\n",
    "\n",
    "    u = solver.diagnostic_solve(\n",
    "        velocity = u,\n",
    "        thickness = h,\n",
    "        surface = s,\n",
    "        fluidity = A,\n",
    "        friction = C,\n",
    "    )\n",
    "\n",
    "    height_min2[step] = h.dat.data_ro.min()"
   ]
  },
  {
   "cell_type": "markdown",
   "id": "e73fbe2b-5e4a-4973-bdd0-ecefb43aa604",
   "metadata": {},
   "source": [
    "Plot profile."
   ]
  },
  {
   "cell_type": "code",
   "execution_count": null,
   "id": "0b73c73e-c470-4cf6-8d02-19a4f7da546a",
   "metadata": {},
   "outputs": [],
   "source": [
    "fig, axes = plt.subplots()\n",
    "axes.set_xlabel(\"distance along centerline (m)\")\n",
    "axes.set_ylabel(\"elevation (m)\")\n",
    "\n",
    "firedrake.plot(icepack.depth_average(b), edgecolor=\"tab:brown\", axes=axes)\n",
    "zb = firedrake.interpolate(s-h, Q)\n",
    "firedrake.plot(icepack.depth_average(zb), edgecolor=\"tab:blue\", axes = axes)\n",
    "firedrake.plot(icepack.depth_average(s), edgecolor=\"tab:blue\", axes = axes);"
   ]
  },
  {
   "cell_type": "code",
   "execution_count": null,
   "id": "e08b58a2-6ddd-4a63-a572-cc8624e13efe",
   "metadata": {},
   "outputs": [],
   "source": [
    "# fig, axes = plt.subplots()\n",
    "# axes.set_xlabel(\"distance along centerline (m)\")\n",
    "# axes.set_ylabel(\"smoothstep function\")\n",
    "# firedrake.plot(icepack.depth_average(smooth_h), edgecolor=\"tab:blue\", axes = axes);"
   ]
  },
  {
   "cell_type": "code",
   "execution_count": null,
   "id": "e5e2e27e-73e3-49c7-b20f-237d08cff9cc",
   "metadata": {
    "scrolled": true
   },
   "outputs": [],
   "source": [
    "print(height_min1)"
   ]
  },
  {
   "cell_type": "code",
   "execution_count": null,
   "id": "afe2a136-8a2b-44f3-a19a-c634512f9169",
   "metadata": {},
   "outputs": [],
   "source": [
    "print(height_min2)"
   ]
  },
  {
   "cell_type": "code",
   "execution_count": null,
   "id": "1dcf18bb-11f6-4613-97cd-8429907153e2",
   "metadata": {},
   "outputs": [],
   "source": []
  }
 ],
 "metadata": {
  "kernelspec": {
   "display_name": "Python 3 (ipykernel)",
   "language": "python",
   "name": "python3"
  },
  "language_info": {
   "codemirror_mode": {
    "name": "ipython",
    "version": 3
   },
   "file_extension": ".py",
   "mimetype": "text/x-python",
   "name": "python",
   "nbconvert_exporter": "python",
   "pygments_lexer": "ipython3",
   "version": "3.11.4"
  }
 },
 "nbformat": 4,
 "nbformat_minor": 5
}
