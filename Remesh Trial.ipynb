{
 "cells": [
  {
   "cell_type": "markdown",
   "id": "d84c230d-cd21-495c-886c-216e39fa9a2f",
   "metadata": {},
   "source": [
    "### Remeshing Function Trial"
   ]
  },
  {
   "cell_type": "markdown",
   "id": "757dcdac-8ba8-47ad-b94e-4bfd45b47dcb",
   "metadata": {},
   "source": [
    "Import, initialize mesh and function spaces."
   ]
  },
  {
   "cell_type": "code",
   "execution_count": 1,
   "id": "e65aa60b-466b-49c2-bddb-f313feeaaf8f",
   "metadata": {},
   "outputs": [
    {
     "name": "stderr",
     "output_type": "stream",
     "text": [
      "firedrake:WARNING OMP_NUM_THREADS is not set or is set to a value greater than 1, we suggest setting OMP_NUM_THREADS=1 to improve performance\n"
     ]
    }
   ],
   "source": [
    "import firedrake\n",
    "import icepack\n",
    "import matplotlib.pyplot as plt\n",
    "import numpy as np\n",
    "\n",
    "Lx = 100e3\n",
    "nx = 72\n",
    "\n",
    "# mesh1d = firedrake.IntervalMesh(nx, Lx)\n",
    "# mesh = firedrake.ExtrudedMesh(mesh1d, layers=1)\n",
    "\n",
    "# Q = firedrake.FunctionSpace(mesh, \"CG\", 1, vfamily=\"R\", vdegree=0)\n",
    "# V = firedrake.FunctionSpace(mesh, \"CG\", 1, vfamily=\"GL\", vdegree=2)\n",
    "\n",
    "mesh = firedrake.IntervalMesh(nx, Lx)\n",
    "Q = firedrake.FunctionSpace(mesh, \"CG\", 1)\n",
    "V = firedrake.VectorFunctionSpace(mesh, \"CG\", 1)"
   ]
  },
  {
   "cell_type": "markdown",
   "id": "f5f28816-3289-4e69-9c17-624f769e628e",
   "metadata": {},
   "source": [
    "Define initial geometry."
   ]
  },
  {
   "cell_type": "code",
   "execution_count": 2,
   "id": "01382765-cc92-48aa-86f2-f642d5d72d33",
   "metadata": {},
   "outputs": [],
   "source": [
    "from firedrake import max_value, min_value\n",
    "\n",
    "# x, z = firedrake.SpatialCoordinate(mesh)\n",
    "x, = firedrake.SpatialCoordinate(mesh)\n",
    "\n",
    "b_in, b_out = 100, -100\n",
    "base_x = b_in - (b_in - b_out) * x/Lx\n",
    "b = firedrake.interpolate(base_x, Q)\n",
    "\n",
    "s_in, s_out = 850, 0\n",
    "surface_x = s_in - (s_in - s_out) * x/Lx\n",
    "s0 = firedrake.interpolate(surface_x, Q)\n",
    "\n",
    "h_in, h_out = s_in - b_in, -100\n",
    "height_x = h_in - (h_in - h_out) * x/Lx\n",
    "h0 = firedrake.interpolate(height_x,Q)"
   ]
  },
  {
   "cell_type": "markdown",
   "id": "88fc8b83-84ca-44ee-b766-813c4d6c4c87",
   "metadata": {},
   "source": [
    "Plot profile."
   ]
  },
  {
   "cell_type": "code",
   "execution_count": 3,
   "id": "009780cc-d5d4-48ef-a713-2adbeccb907e",
   "metadata": {},
   "outputs": [
    {
     "data": {
      "image/png": "[encoded data removed]",
      "text/plain": [
       "<Figure size 640x480 with 1 Axes>"
      ]
     },
     "metadata": {},
     "output_type": "display_data"
    }
   ],
   "source": [
    "fig, axes = plt.subplots()\n",
    "axes.set_xlabel(\"distance along centerline (m)\")\n",
    "axes.set_ylabel(\"elevation (m)\")\n",
    "\n",
    "# firedrake.plot(icepack.depth_average(b), edgecolor=\"tab:brown\", axes=axes)\n",
    "# zb0 = firedrake.interpolate(s0-h0, Q)\n",
    "# firedrake.plot(icepack.depth_average(zb0), edgecolor=\"tab:blue\", axes = axes)\n",
    "# firedrake.plot(icepack.depth_average(s0), edgecolor=\"tab:blue\", axes = axes);\n",
    "\n",
    "firedrake.plot(b, edgecolor=\"tab:brown\", axes=axes)\n",
    "zb0 = firedrake.interpolate(s0-h0, Q)\n",
    "firedrake.plot(zb0, edgecolor=\"tab:blue\", axes = axes)\n",
    "firedrake.plot(s0, edgecolor=\"tab:blue\", axes = axes);"
   ]
  },
  {
   "cell_type": "markdown",
   "id": "1ff7ee64-a2f3-4370-a9a3-ef213da20560",
   "metadata": {},
   "source": [
    "Find point where height = 0."
   ]
  },
  {
   "cell_type": "code",
   "execution_count": 4,
   "id": "7ae7003e-948c-4450-b594-f26b7de2940d",
   "metadata": {},
   "outputs": [
    {
     "name": "stdout",
     "output_type": "stream",
     "text": [
      "[ 750.          738.19444444  726.38888889  714.58333333  702.77777778\n",
      "  690.97222222  679.16666667  667.36111111  655.55555556  643.75\n",
      "  631.94444444  620.13888889  608.33333333  596.52777778  584.72222222\n",
      "  572.91666667  561.11111111  549.30555556  537.5         525.69444444\n",
      "  513.88888889  502.08333333  490.27777778  478.47222222  466.66666667\n",
      "  454.86111111  443.05555556  431.25        419.44444444  407.63888889\n",
      "  395.83333333  384.02777778  372.22222222  360.41666667  348.61111111\n",
      "  336.80555556  325.          313.19444444  301.38888889  289.58333333\n",
      "  277.77777778  265.97222222  254.16666667  242.36111111  230.55555556\n",
      "  218.75        206.94444444  195.13888889  183.33333333  171.52777778\n",
      "  159.72222222  147.91666667  136.11111111  124.30555556  112.5\n",
      "  100.69444444   88.88888889   77.08333333   65.27777778   53.47222222\n",
      "   41.66666667   29.86111111   18.05555556    6.25         -5.55555556\n",
      "  -17.36111111  -29.16666667  -40.97222222  -52.77777778  -64.58333333\n",
      "  -76.38888889  -88.19444444 -100.        ]\n",
      "64\n",
      "-5.555555555555624\n",
      "0.875\n"
     ]
    }
   ],
   "source": [
    "print(h0.dat.data_ro)\n",
    "\n",
    "zero_pt = np.nan\n",
    "for idx in reversed(range(len(h0.dat.data_ro))):\n",
    "    if h0.dat.data_ro[idx] <= 0:\n",
    "        zero_pt = idx\n",
    "    \n",
    "print(zero_pt)\n",
    "print(h0.dat.data_ro[zero_pt])\n",
    "\n",
    "stretch = (zero_pt - 1)/nx\n",
    "print(stretch)"
   ]
  },
  {
   "cell_type": "markdown",
   "id": "840a1bc1-6abf-4ae6-8431-6ccf8e27f311",
   "metadata": {},
   "source": [
    "Compress mesh coordinates?"
   ]
  },
  {
   "cell_type": "code",
   "execution_count": 59,
   "id": "ab0342e5-5fe7-477c-afc2-b1132726654e",
   "metadata": {},
   "outputs": [
    {
     "ename": "TypeError",
     "evalue": "expected str, bytes or os.PathLike object, not MeshGeometry",
     "output_type": "error",
     "traceback": [
      "\u001b[0;31m---------------------------------------------------------------------------\u001b[0m",
      "\u001b[0;31mTypeError\u001b[0m                                 Traceback (most recent call last)",
      "Cell \u001b[0;32mIn[59], line 1\u001b[0m\n\u001b[0;32m----> 1\u001b[0m new_mesh \u001b[38;5;241m=\u001b[39m \u001b[43mfiredrake\u001b[49m\u001b[38;5;241;43m.\u001b[39;49m\u001b[43mMesh\u001b[49m\u001b[43m(\u001b[49m\u001b[43mmesh\u001b[49m\u001b[43m)\u001b[49m\n\u001b[1;32m      3\u001b[0m Vc \u001b[38;5;241m=\u001b[39m mesh\u001b[38;5;241m.\u001b[39mcoordinates\u001b[38;5;241m.\u001b[39mfunction_space()\n\u001b[1;32m      4\u001b[0m f \u001b[38;5;241m=\u001b[39m firedrake\u001b[38;5;241m.\u001b[39mFunction(Vc)\u001b[38;5;241m.\u001b[39minterpolate(firedrake\u001b[38;5;241m.\u001b[39mas_vector([x\u001b[38;5;241m*\u001b[39mstretch, z]))\n",
      "File \u001b[0;32mpetsc4py/PETSc/Log.pyx:115\u001b[0m, in \u001b[0;36mpetsc4py.PETSc.Log.EventDecorator.decorator.wrapped_func\u001b[0;34m()\u001b[0m\n",
      "File \u001b[0;32mpetsc4py/PETSc/Log.pyx:116\u001b[0m, in \u001b[0;36mpetsc4py.PETSc.Log.EventDecorator.decorator.wrapped_func\u001b[0;34m()\u001b[0m\n",
      "File \u001b[0;32m~/firedrake/src/firedrake/firedrake/mesh.py:2444\u001b[0m, in \u001b[0;36mMesh\u001b[0;34m(meshfile, **kwargs)\u001b[0m\n\u001b[1;32m   2442\u001b[0m     plex \u001b[38;5;241m=\u001b[39m _from_netgen(meshfile, user_comm)\n\u001b[1;32m   2443\u001b[0m \u001b[38;5;28;01melse\u001b[39;00m:\n\u001b[0;32m-> 2444\u001b[0m     basename, ext \u001b[38;5;241m=\u001b[39m \u001b[43mos\u001b[49m\u001b[38;5;241;43m.\u001b[39;49m\u001b[43mpath\u001b[49m\u001b[38;5;241;43m.\u001b[39;49m\u001b[43msplitext\u001b[49m\u001b[43m(\u001b[49m\u001b[43mmeshfile\u001b[49m\u001b[43m)\u001b[49m\n\u001b[1;32m   2445\u001b[0m     \u001b[38;5;28;01mif\u001b[39;00m ext\u001b[38;5;241m.\u001b[39mlower() \u001b[38;5;129;01min\u001b[39;00m [\u001b[38;5;124m'\u001b[39m\u001b[38;5;124m.e\u001b[39m\u001b[38;5;124m'\u001b[39m, \u001b[38;5;124m'\u001b[39m\u001b[38;5;124m.exo\u001b[39m\u001b[38;5;124m'\u001b[39m]:\n\u001b[1;32m   2446\u001b[0m         plex \u001b[38;5;241m=\u001b[39m _from_exodus(meshfile, user_comm)\n",
      "File \u001b[0;32m<frozen posixpath>:118\u001b[0m, in \u001b[0;36msplitext\u001b[0;34m(p)\u001b[0m\n",
      "\u001b[0;31mTypeError\u001b[0m: expected str, bytes or os.PathLike object, not MeshGeometry"
     ]
    }
   ],
   "source": [
    "new_mesh = firedrake.Mesh(mesh)\n",
    "\n",
    "Vc = mesh.coordinates.function_space()\n",
    "f = firedrake.Function(Vc).interpolate(firedrake.as_vector([x*stretch, z]))\n",
    "mesh.coordinates.assign(f);"
   ]
  },
  {
   "cell_type": "code",
   "execution_count": 38,
   "id": "dce4df4f-8627-4590-b631-e9b034853ff5",
   "metadata": {},
   "outputs": [
    {
     "name": "stdout",
     "output_type": "stream",
     "text": [
      "[ 750.          738.19444444  726.38888889  714.58333333  702.77777778\n",
      "  690.97222222  679.16666667  667.36111111  655.55555556  643.75\n",
      "  631.94444444  620.13888889  608.33333333  596.52777778  584.72222222\n",
      "  572.91666667  561.11111111  549.30555556  537.5         525.69444444\n",
      "  513.88888889  502.08333333  490.27777778  478.47222222  466.66666667\n",
      "  454.86111111  443.05555556  431.25        419.44444444  407.63888889\n",
      "  395.83333333  384.02777778  372.22222222  360.41666667  348.61111111\n",
      "  336.80555556  325.          313.19444444  301.38888889  289.58333333\n",
      "  277.77777778  265.97222222  254.16666667  242.36111111  230.55555556\n",
      "  218.75        206.94444444  195.13888889  183.33333333  171.52777778\n",
      "  159.72222222  147.91666667  136.11111111  124.30555556  112.5\n",
      "  100.69444444   88.88888889   77.08333333   65.27777778   53.47222222\n",
      "   41.66666667   29.86111111   18.05555556    6.25         -5.55555556\n",
      "  -17.36111111  -29.16666667  -40.97222222  -52.77777778  -64.58333333\n",
      "  -76.38888889  -88.19444444 -100.        ]\n"
     ]
    }
   ],
   "source": [
    "print(h0.dat.data_ro)"
   ]
  },
  {
   "cell_type": "code",
   "execution_count": 48,
   "id": "5f9704ef-038f-439e-9369-4ca6d7004a90",
   "metadata": {},
   "outputs": [
    {
     "ename": "ValueError",
     "evalue": "Coordinates must be from a rank-1 FunctionSpace with rank-1 value_shape.",
     "output_type": "error",
     "traceback": [
      "\u001b[0;31m---------------------------------------------------------------------------\u001b[0m",
      "\u001b[0;31mValueError\u001b[0m                                Traceback (most recent call last)",
      "Cell \u001b[0;32mIn[48], line 2\u001b[0m\n\u001b[1;32m      1\u001b[0m h1 \u001b[38;5;241m=\u001b[39m firedrake\u001b[38;5;241m.\u001b[39mFunction(h0)\n\u001b[0;32m----> 2\u001b[0m new_mesh \u001b[38;5;241m=\u001b[39m \u001b[43mfiredrake\u001b[49m\u001b[38;5;241;43m.\u001b[39;49m\u001b[43mMesh\u001b[49m\u001b[43m(\u001b[49m\u001b[43mh1\u001b[49m\u001b[43m)\u001b[49m\n\u001b[1;32m      3\u001b[0m h1 \u001b[38;5;241m=\u001b[39m firedrake\u001b[38;5;241m.\u001b[39mFunction(firedrake\u001b[38;5;241m.\u001b[39mfunctionspaceimpl\u001b[38;5;241m.\u001b[39mWithGeometry\u001b[38;5;241m.\u001b[39mcreate(h0\u001b[38;5;241m.\u001b[39mfunction_space(), mesh), val\u001b[38;5;241m=\u001b[39mh0\u001b[38;5;241m.\u001b[39mtopological)\n",
      "File \u001b[0;32mpetsc4py/PETSc/Log.pyx:115\u001b[0m, in \u001b[0;36mpetsc4py.PETSc.Log.EventDecorator.decorator.wrapped_func\u001b[0;34m()\u001b[0m\n",
      "File \u001b[0;32mpetsc4py/PETSc/Log.pyx:116\u001b[0m, in \u001b[0;36mpetsc4py.PETSc.Log.EventDecorator.decorator.wrapped_func\u001b[0;34m()\u001b[0m\n",
      "File \u001b[0;32m~/firedrake/src/firedrake/firedrake/mesh.py:2427\u001b[0m, in \u001b[0;36mMesh\u001b[0;34m(meshfile, **kwargs)\u001b[0m\n\u001b[1;32m   2425\u001b[0m     coordinates \u001b[38;5;241m=\u001b[39m \u001b[38;5;28;01mNone\u001b[39;00m\n\u001b[1;32m   2426\u001b[0m \u001b[38;5;28;01mif\u001b[39;00m coordinates \u001b[38;5;129;01mis\u001b[39;00m \u001b[38;5;129;01mnot\u001b[39;00m \u001b[38;5;28;01mNone\u001b[39;00m:\n\u001b[0;32m-> 2427\u001b[0m     \u001b[38;5;28;01mreturn\u001b[39;00m \u001b[43mmake_mesh_from_coordinates\u001b[49m\u001b[43m(\u001b[49m\u001b[43mcoordinates\u001b[49m\u001b[43m,\u001b[49m\u001b[43m \u001b[49m\u001b[43mname\u001b[49m\u001b[43m)\u001b[49m\n\u001b[1;32m   2429\u001b[0m tolerance \u001b[38;5;241m=\u001b[39m kwargs\u001b[38;5;241m.\u001b[39mget(\u001b[38;5;124m\"\u001b[39m\u001b[38;5;124mtolerance\u001b[39m\u001b[38;5;124m\"\u001b[39m, \u001b[38;5;241m1.0\u001b[39m)\n\u001b[1;32m   2431\u001b[0m utils\u001b[38;5;241m.\u001b[39m_init()\n",
      "File \u001b[0;32mpetsc4py/PETSc/Log.pyx:115\u001b[0m, in \u001b[0;36mpetsc4py.PETSc.Log.EventDecorator.decorator.wrapped_func\u001b[0;34m()\u001b[0m\n",
      "File \u001b[0;32mpetsc4py/PETSc/Log.pyx:116\u001b[0m, in \u001b[0;36mpetsc4py.PETSc.Log.EventDecorator.decorator.wrapped_func\u001b[0;34m()\u001b[0m\n",
      "File \u001b[0;32m~/firedrake/src/firedrake/firedrake/mesh.py:2301\u001b[0m, in \u001b[0;36mmake_mesh_from_coordinates\u001b[0;34m(coordinates, name)\u001b[0m\n\u001b[1;32m   2299\u001b[0m element \u001b[38;5;241m=\u001b[39m coordinates\u001b[38;5;241m.\u001b[39mufl_element()\n\u001b[1;32m   2300\u001b[0m \u001b[38;5;28;01mif\u001b[39;00m V\u001b[38;5;241m.\u001b[39mrank \u001b[38;5;241m!=\u001b[39m \u001b[38;5;241m1\u001b[39m \u001b[38;5;129;01mor\u001b[39;00m \u001b[38;5;28mlen\u001b[39m(element\u001b[38;5;241m.\u001b[39mvalue_shape()) \u001b[38;5;241m!=\u001b[39m \u001b[38;5;241m1\u001b[39m:\n\u001b[0;32m-> 2301\u001b[0m     \u001b[38;5;28;01mraise\u001b[39;00m \u001b[38;5;167;01mValueError\u001b[39;00m(\u001b[38;5;124m\"\u001b[39m\u001b[38;5;124mCoordinates must be from a rank-1 FunctionSpace with rank-1 value_shape.\u001b[39m\u001b[38;5;124m\"\u001b[39m)\n\u001b[1;32m   2302\u001b[0m \u001b[38;5;28;01massert\u001b[39;00m V\u001b[38;5;241m.\u001b[39mmesh()\u001b[38;5;241m.\u001b[39mufl_cell()\u001b[38;5;241m.\u001b[39mtopological_dimension() \u001b[38;5;241m<\u001b[39m\u001b[38;5;241m=\u001b[39m V\u001b[38;5;241m.\u001b[39mvalue_size\n\u001b[1;32m   2303\u001b[0m \u001b[38;5;66;03m# Build coordinate element\u001b[39;00m\n",
      "\u001b[0;31mValueError\u001b[0m: Coordinates must be from a rank-1 FunctionSpace with rank-1 value_shape."
     ]
    }
   ],
   "source": [
    "h1 = firedrake.Function(h0)\n",
    "new_mesh = firedrake.Mesh(h1)\n",
    "h1 = firedrake.Function(firedrake.functionspaceimpl.WithGeometry.create(h0.function_space(), mesh), val=h0.topological)"
   ]
  },
  {
   "cell_type": "code",
   "execution_count": 46,
   "id": "4004afd7-4882-4fd2-9dae-fe1a2e63e169",
   "metadata": {},
   "outputs": [
    {
     "name": "stdout",
     "output_type": "stream",
     "text": [
      "[ 750.          738.19444444  726.38888889  714.58333333  702.77777778\n",
      "  690.97222222  679.16666667  667.36111111  655.55555556  643.75\n",
      "  631.94444444  620.13888889  608.33333333  596.52777778  584.72222222\n",
      "  572.91666667  561.11111111  549.30555556  537.5         525.69444444\n",
      "  513.88888889  502.08333333  490.27777778  478.47222222  466.66666667\n",
      "  454.86111111  443.05555556  431.25        419.44444444  407.63888889\n",
      "  395.83333333  384.02777778  372.22222222  360.41666667  348.61111111\n",
      "  336.80555556  325.          313.19444444  301.38888889  289.58333333\n",
      "  277.77777778  265.97222222  254.16666667  242.36111111  230.55555556\n",
      "  218.75        206.94444444  195.13888889  183.33333333  171.52777778\n",
      "  159.72222222  147.91666667  136.11111111  124.30555556  112.5\n",
      "  100.69444444   88.88888889   77.08333333   65.27777778   53.47222222\n",
      "   41.66666667   29.86111111   18.05555556    6.25         -5.55555556\n",
      "  -17.36111111  -29.16666667  -40.97222222  -52.77777778  -64.58333333\n",
      "  -76.38888889  -88.19444444 -100.        ]\n"
     ]
    }
   ],
   "source": [
    "print(h1.dat.data_ro)"
   ]
  },
  {
   "cell_type": "code",
   "execution_count": null,
   "id": "caf64dce-3b5f-4889-bd7a-58045cba0c23",
   "metadata": {},
   "outputs": [],
   "source": []
  }
 ],
 "metadata": {
  "kernelspec": {
   "display_name": "Python 3 (ipykernel)",
   "language": "python",
   "name": "python3"
  },
  "language_info": {
   "codemirror_mode": {
    "name": "ipython",
    "version": 3
   },
   "file_extension": ".py",
   "mimetype": "text/x-python",
   "name": "python",
   "nbconvert_exporter": "python",
   "pygments_lexer": "ipython3",
   "version": "3.11.4"
  }
 },
 "nbformat": 4,
 "nbformat_minor": 5
}
