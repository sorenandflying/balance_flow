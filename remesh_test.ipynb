{
 "cells": [
  {
   "cell_type": "markdown",
   "id": "60d1bdce-f4a4-4924-8e99-eb31eedb5aad",
   "metadata": {},
   "source": [
    "## 2D Remesh Trial"
   ]
  },
  {
   "cell_type": "markdown",
   "id": "c6e91a5b-7afd-4924-95c9-0dabfff979b2",
   "metadata": {},
   "source": [
    "Initialize 10x10 square mesh, and `V_src` function space.\n",
    "\n",
    "Define a simple function `f_src` that is just `f(x,y) = x + y`."
   ]
  },
  {
   "cell_type": "code",
   "execution_count": null,
   "id": "cb0ee3c7-702b-4586-b9fe-1aa3403e1bc7",
   "metadata": {},
   "outputs": [],
   "source": [
    "import firedrake\n",
    "import matplotlib.pyplot as plt\n",
    "import numpy as np\n",
    "import icepack\n",
    "import icepack.plot\n",
    "\n",
    "src_mesh = firedrake.UnitSquareMesh(10,10)\n",
    "src_mesh.coordinates.dat.data_wo[:] *= 10\n",
    "x_src, y_src = firedrake.SpatialCoordinate(src_mesh)\n",
    "V_src = firedrake.FunctionSpace(src_mesh, \"CG\", 2)\n",
    "\n",
    "from firedrake import sin, sqrt\n",
    "# f_src = firedrake.Function(V_src).interpolate(sin(sqrt(x_src**2 + y_src**2)*2*3.14159)+1)\n",
    "f_src = firedrake.Function(V_src).interpolate(x_src + y_src)"
   ]
  },
  {
   "cell_type": "markdown",
   "id": "11a79540-57bf-4b52-a2b7-1179f8550783",
   "metadata": {},
   "source": [
    "Plot function and check that `f(1,1) = 2` and `f(3,4) = 7`."
   ]
  },
  {
   "cell_type": "code",
   "execution_count": null,
   "id": "fb0e8ce2-6493-4301-ae59-2cc299e1e387",
   "metadata": {},
   "outputs": [],
   "source": [
    "fig, axes = icepack.plot.subplots()\n",
    "kw = {\"vmin\": 0, \"vmax\": 20}\n",
    "icepack.plot.tripcolor(f_src, axes = axes, **kw);\n",
    "\n",
    "print(f_src.at(1,1))\n",
    "print(f_src.at(3,4))"
   ]
  },
  {
   "cell_type": "markdown",
   "id": "3b96f8d4-c56c-4feb-8d3b-8e766116f3ca",
   "metadata": {},
   "source": [
    "Initialze a new 5x5 mesh, a function space `V_dest_1`.\n",
    "\n",
    "Interpolate `f_src` onto `V_dest_1` to get `f_dest_1`."
   ]
  },
  {
   "cell_type": "code",
   "execution_count": null,
   "id": "cd42bdd9-d9b9-4498-9c34-22aa8934a682",
   "metadata": {},
   "outputs": [],
   "source": [
    "dest_mesh_1 = firedrake.UnitSquareMesh(10,10, quadrilateral=True)\n",
    "dest_mesh_1.coordinates.dat.data_wo[:] *= 5\n",
    "\n",
    "V_dest_1 = firedrake.FunctionSpace(dest_mesh_1,\"Q\",2)\n",
    "f_dest_1 = firedrake.interpolate(f_src, V_dest_1)"
   ]
  },
  {
   "cell_type": "markdown",
   "id": "2d7bf4ac-bd4e-496f-b313-758a0b9e2242",
   "metadata": {},
   "source": [
    "Plot result to check that the function was transferred properly, and check that function is evaluated correctly at test points."
   ]
  },
  {
   "cell_type": "code",
   "execution_count": null,
   "id": "32353380-e466-4766-bcd6-2b73a1efd4fe",
   "metadata": {},
   "outputs": [],
   "source": [
    "fig, axes = icepack.plot.subplots()\n",
    "kw = {\"vmin\": 0, \"vmax\": 20}\n",
    "icepack.plot.tripcolor(f_dest_1, axes = axes, **kw);\n",
    "\n",
    "print(f_src.at(1,1))\n",
    "print(f_src.at(3,4))"
   ]
  },
  {
   "cell_type": "markdown",
   "id": "455b30ba-5845-4a7f-a411-15adfe2d4516",
   "metadata": {},
   "source": [
    "Initialze a new 20x20 mesh, a function space `V_dest_2`.\n",
    "\n",
    "Interpolate `f_src` onto `V_dest_2` to get `f_dest_2`. Allow missing values and fill those with a default value of `1`."
   ]
  },
  {
   "cell_type": "code",
   "execution_count": null,
   "id": "a351cb2d-9ccb-4db7-b490-52b10d9019a5",
   "metadata": {},
   "outputs": [],
   "source": [
    "dest_mesh_2 = firedrake.UnitSquareMesh(10,10, quadrilateral = True)\n",
    "dest_mesh_2.coordinates.dat.data_wo[:] *= 20\n",
    "\n",
    "V_dest_2 = firedrake.FunctionSpace(dest_mesh_2,\"Q\",2)\n",
    "f_dest_2 = firedrake.interpolate(f_src, V_dest_2, allow_missing_dofs=True, default_missing_val=1)"
   ]
  },
  {
   "cell_type": "markdown",
   "id": "38f1170c-af67-4c7e-bceb-d12597dcafe7",
   "metadata": {},
   "source": [
    "Plot result to check that the function was transferred properly, and check that function is evaluated correctly at test points. "
   ]
  },
  {
   "cell_type": "code",
   "execution_count": null,
   "id": "7dd3a43f-0875-4ffa-a843-25fde0574e25",
   "metadata": {},
   "outputs": [],
   "source": [
    "fig, axes = icepack.plot.subplots()\n",
    "kw = {\"vmin\": 0, \"vmax\": 20}\n",
    "icepack.plot.tripcolor(f_dest_2, axes = axes, **kw);\n",
    "\n",
    "print(f_src.at(1,1))\n",
    "print(f_src.at(3,4))"
   ]
  },
  {
   "cell_type": "markdown",
   "id": "8745bbe2-a2f5-4ee0-8f0c-e3b3ec2086b3",
   "metadata": {},
   "source": [
    "## 1D Remesh Trial"
   ]
  },
  {
   "cell_type": "markdown",
   "id": "31a8aecc-faa3-440b-a774-a04b85698088",
   "metadata": {},
   "source": [
    "Initialize an `IntervalMesh`, scalar and vector functions spaces.\n",
    "\n",
    "Extract the `SpatialCoordinate`.\n",
    "\n",
    "Initialize simple 1D scalar function `f_src_1`, and 1D vector function `u_src_1`."
   ]
  },
  {
   "cell_type": "code",
   "execution_count": 11,
   "id": "6934105d-c06e-40fd-be73-621e497c60ce",
   "metadata": {},
   "outputs": [
    {
     "name": "stdout",
     "output_type": "stream",
     "text": [
      "[ 0.   0.5  1.   1.5  2.   2.5  3.   3.5  4.   4.5  5.   5.5  6.   6.5\n",
      "  7.   7.5  8.   8.5  9.   9.5 10. ]\n",
      "[ 0.   0.5  1.   1.5  2.   2.5  3.   3.5  4.   4.5  5.   5.5  6.   6.5\n",
      "  7.   7.5  8.   8.5  9.   9.5 10. ]\n",
      "[  0.     0.25   1.     2.25   4.     6.25   9.    12.25  16.    20.25\n",
      "  25.    30.25  36.    42.25  49.    56.25  64.    72.25  81.    90.25\n",
      " 100.  ]\n",
      "[ 0.   0.   0.   2.5  2.5  2.5  5.   5.   5.   7.5  7.5  7.5 10.  10.\n",
      " 10.  12.5 12.5 12.5 15.  15.  15.  17.5 17.5 17.5 20.  20.  20.  22.5\n",
      " 22.5 22.5 25.  25.  25.  27.5 27.5 27.5 30.  30.  30.  32.5 32.5 32.5\n",
      " 35.  35.  35.  37.5 37.5 37.5 40.  40.  40.  42.5 42.5 42.5 45.  45.\n",
      " 45.  47.5 47.5 47.5 50.  50.  50. ]\n"
     ]
    }
   ],
   "source": [
    "import firedrake\n",
    "import matplotlib.pyplot as plt\n",
    "import numpy as np\n",
    "import icepack\n",
    "import icepack.plot\n",
    "\n",
    "src_mesh1d = firedrake.IntervalMesh(10, 10)\n",
    "src_mesh_1 = firedrake.ExtrudedMesh(src_mesh1d, layers=1)\n",
    "\n",
    "Q_src_1 = firedrake.FunctionSpace(src_mesh_1, \"CG\", 2, vfamily=\"R\", vdegree = 0)\n",
    "V_src_1 = firedrake.FunctionSpace(src_mesh_1, \"CG\", 2, vfamily=\"GL\", vdegree = 2)\n",
    "\n",
    "x_sc, z_sc = firedrake.SpatialCoordinate(src_mesh_1)\n",
    "\n",
    "x = firedrake.interpolate(x_sc, Q_src_1)\n",
    "z = firedrake.interpolate(z_sc, Q_src_1)\n",
    "\n",
    "x_sc_temp = x.dat.data[0]\n",
    "x.dat.data[0] = x.dat.data[1]\n",
    "x.dat.data[1] = x_sc_temp\n",
    "\n",
    "z_sc_temp = z.dat.data[0]\n",
    "z.dat.data[0] = z.dat.data[1]\n",
    "z.dat.data[1] = z_sc_temp\n",
    "\n",
    "\n",
    "x_vals_1 = firedrake.interpolate(x, Q_src_1)\n",
    "x_vals_2 = firedrake.interpolate(x_vals_1, Q_src_1)\n",
    "\n",
    "f_src_1 = firedrake.interpolate(x**2, Q_src_1)\n",
    "u_src_1 = firedrake.interpolate(x*5, V_src_1)\n",
    "\n",
    "\n",
    "print(x_vals_1.dat.data)\n",
    "print(x_vals_2.dat.data)\n",
    "print(f_src_1.dat.data)\n",
    "print(u_src_1.dat.data)\n"
   ]
  },
  {
   "cell_type": "markdown",
   "id": "0e2cf0e2-9d2d-4619-a7ba-eeb8d96589f0",
   "metadata": {},
   "source": [
    "Plot the functions."
   ]
  },
  {
   "cell_type": "code",
   "execution_count": 12,
   "id": "f5f5bdce-2e66-42cc-b4a1-5d4ebf00ce31",
   "metadata": {},
   "outputs": [
    {
     "name": "stdout",
     "output_type": "stream",
     "text": [
      "[5.89805982e-17 2.50000000e-01 1.00000000e+00 2.25000000e+00\n",
      " 4.00000000e+00 6.25000000e+00 9.00000000e+00 1.22500000e+01\n",
      " 1.60000000e+01 2.02500000e+01 2.50000000e+01 3.02500000e+01\n",
      " 3.60000000e+01 4.22500000e+01 4.90000000e+01 5.62500000e+01\n",
      " 6.40000000e+01 7.22500000e+01 8.10000000e+01 9.02500000e+01\n",
      " 1.00000000e+02]\n",
      "[1.11022302e-16 2.50000000e+00 5.00000000e+00 7.50000000e+00\n",
      " 1.00000000e+01 1.25000000e+01 1.50000000e+01 1.75000000e+01\n",
      " 2.00000000e+01 2.25000000e+01 2.50000000e+01 2.75000000e+01\n",
      " 3.00000000e+01 3.25000000e+01 3.50000000e+01 3.75000000e+01\n",
      " 4.00000000e+01 4.25000000e+01 4.50000000e+01 4.75000000e+01\n",
      " 5.00000000e+01]\n"
     ]
    },
    {
     "data": {
      "image/png": "[encoded data removed]",
      "text/plain": [
       "<Figure size 640x480 with 1 Axes>"
      ]
     },
     "metadata": {},
     "output_type": "display_data"
    }
   ],
   "source": [
    "fig, axes = plt.subplots()\n",
    "firedrake.plot(icepack.depth_average(f_src_1), axes=axes);\n",
    "firedrake.plot(icepack.depth_average(u_src_1), axes = axes);\n",
    "\n",
    "print(icepack.depth_average(f_src_1).dat.data)\n",
    "print(icepack.depth_average(u_src_1).dat.data)"
   ]
  },
  {
   "cell_type": "markdown",
   "id": "222acfa5-18c9-4691-a760-72ed7f66e3c7",
   "metadata": {},
   "source": [
    "#### Setup Base Mesh\n",
    "\n",
    "Extract function coordinates into `f_data`.\n",
    "\n",
    "Initialize `x_mesh` as an np.linspace array https://numpy.org/doc/stable/reference/generated/numpy.linspace.html#numpy-linspace\n",
    "\n",
    "Initialize `interp1d` object `f_interpolator`, based on 1D array `x_mesh`, ND array `f_data`, use linear interpolation (but it could be other types), and allow interpolation to values outside of the mesh.\n",
    "\n",
    "Do the same for the velocity function `u_src_1`."
   ]
  },
  {
   "cell_type": "code",
   "execution_count": 13,
   "id": "9f6946f0-791b-4ff4-87ae-99d8b9f13c66",
   "metadata": {},
   "outputs": [
    {
     "name": "stdout",
     "output_type": "stream",
     "text": [
      "[  0.     0.25   1.     2.25   4.     6.25   9.    12.25  16.    20.25\n",
      "  25.    30.25  36.    42.25  49.    56.25  64.    72.25  81.    90.25\n",
      " 100.  ]\n",
      "[  0.     0.25   1.     2.25   4.     6.25   9.    12.25  16.    20.25\n",
      "  25.    30.25  36.    42.25  49.    56.25  64.    72.25  81.    90.25\n",
      " 100.  ]\n"
     ]
    }
   ],
   "source": [
    "from scipy.interpolate import interp1d\n",
    "import xarray\n",
    "\n",
    "f_data = f_src_1.dat.data\n",
    "f_mesh = np.linspace(0,10,len(f_data),endpoint=True)\n",
    "f_interpolator = interp1d(f_mesh, f_data, kind='linear', bounds_error=False, fill_value=0)\n",
    "\n",
    "u_data = u_src_1.dat.data\n",
    "u_mesh = np.linspace(0,10,len(u_data), endpoint=True)\n",
    "u_interpolator = interp1d(u_mesh, u_data, kind='linear', bounds_error=False, fill_value=0)\n",
    "\n",
    "print(f_src_1.dat.data)\n",
    "print(f_data)"
   ]
  },
  {
   "cell_type": "markdown",
   "id": "09f848f6-a506-4b9e-a1bf-9ef57d66f19b",
   "metadata": {},
   "source": [
    "#### Shrink Mesh - Scalar Values\n",
    "\n",
    "Initialize a mesh of the size you want, `x_mesh_3`, and interpolate the values using the `interp1d` object `f_interpolator`.\n",
    "\n",
    "Save interpolated values to `f_data_3`.\n",
    "\n",
    "Wrap `f_data_3` as a `xarray.DataArray`, using the coordinates from `x_mesh_3`, and naming the one dimension as 'x'."
   ]
  },
  {
   "cell_type": "code",
   "execution_count": 14,
   "id": "bb2b57d3-0c2a-4f58-817b-86f866943844",
   "metadata": {},
   "outputs": [
    {
     "name": "stdout",
     "output_type": "stream",
     "text": [
      "[ 0.     0.125  0.25   0.625  1.     1.625  2.25   3.125  4.     5.125\n",
      "  6.25   7.625  9.    10.625 12.25  14.125 16.    18.125 20.25  22.625\n",
      " 25.   ]\n"
     ]
    }
   ],
   "source": [
    "f_mesh_3 = np.linspace(0,5,len(f_data),endpoint=True)\n",
    "\n",
    "f_data_3 = f_interpolator(f_mesh_3)\n",
    "f_tmp_3 = xarray.DataArray(f_data_3, [f_mesh_3],'x')\n",
    "\n",
    "print(f_data_3)\n"
   ]
  },
  {
   "cell_type": "markdown",
   "id": "138b6777-dc32-4660-a970-7158eb51fac5",
   "metadata": {},
   "source": [
    "Initialize destination meshes, function spaces.\n",
    "\n",
    "Use the `DataArray` from above (`tmp`) to interpolate onto the scalar function space `Q_dest_3`."
   ]
  },
  {
   "cell_type": "code",
   "execution_count": 19,
   "id": "c81f1fb7-871f-4c41-b4f9-6b8ef29aad32",
   "metadata": {},
   "outputs": [
    {
     "name": "stdout",
     "output_type": "stream",
     "text": [
      "[ 0.125  0.     0.25   0.625  1.     1.625  2.25   3.125  4.     5.125\n",
      "  6.25   7.625  9.    10.625 12.25  14.125 16.    18.125 20.25  22.625\n",
      " 25.   ]\n"
     ]
    }
   ],
   "source": [
    "dest_mesh1d_3 = firedrake.IntervalMesh(10, 5)\n",
    "dest_mesh_3 = firedrake.ExtrudedMesh(dest_mesh1d_3, layers=1)\n",
    "\n",
    "x_3, z_3 = firedrake.SpatialCoordinate(dest_mesh_3)\n",
    "Q_dest_3 = firedrake.FunctionSpace(dest_mesh_3, \"CG\", 2, vfamily=\"R\", vdegree=0)\n",
    "V_dest_3 = firedrake.FunctionSpace(dest_mesh_3, \"CG\", 2, vfamily=\"GL\", vdegree=2)\n",
    "\n",
    "f_dest_3 = icepack.interpolate(f_tmp_3, Q_dest_3)\n",
    "\n",
    "# print(f_tmp_3)\n",
    "print(f_dest_3.dat.data)"
   ]
  },
  {
   "cell_type": "markdown",
   "id": "999cd275-15a1-46f2-9b44-84ae10e75cec",
   "metadata": {},
   "source": [
    "Plot the results. The start of the curve looks strange, it appears that the first two values in the array are swapped. Maybe this can be manually corrected."
   ]
  },
  {
   "cell_type": "code",
   "execution_count": 16,
   "id": "2499107c-9cc1-4134-9629-decfbcc5a189",
   "metadata": {},
   "outputs": [
    {
     "name": "stdout",
     "output_type": "stream",
     "text": [
      "[ 0.125  0.     0.25   0.625  1.     1.625  2.25   3.125  4.     5.125\n",
      "  6.25   7.625  9.    10.625 12.25  14.125 16.    18.125 20.25  22.625\n",
      " 25.   ]\n"
     ]
    },
    {
     "data": {
      "image/png": "[encoded data removed]",
      "text/plain": [
       "<Figure size 640x480 with 1 Axes>"
      ]
     },
     "metadata": {},
     "output_type": "display_data"
    }
   ],
   "source": [
    "fig, axes = plt.subplots()\n",
    "firedrake.plot(icepack.depth_average(f_dest_3), axes=axes);\n",
    "print(f_dest_3.dat.data)"
   ]
  },
  {
   "cell_type": "markdown",
   "id": "05f5272b-58b4-45f2-ab6b-6f71985843ae",
   "metadata": {},
   "source": [
    "#### Shrink Mesh - Vector Values"
   ]
  },
  {
   "cell_type": "code",
   "execution_count": null,
   "id": "0eaebd3d-a7c1-4cb0-bc21-d329ab87180e",
   "metadata": {},
   "outputs": [],
   "source": [
    "u_mesh_3 = np.linspace(0,5,len(u_data),endpoint=True)\n",
    "\n",
    "u_data_3 = u_interpolator(u_mesh_3)\n",
    "u_tmp_3 = xarray.DataArray(u_data_3, [u_mesh_3],'x')\n",
    "\n",
    "# print(u_data)\n",
    "# print(u_mesh_3)\n",
    "# print(u_data_3)\n",
    "# print(u_tmp_3)"
   ]
  },
  {
   "cell_type": "code",
   "execution_count": null,
   "id": "2c9ffca0-b1a6-4302-b9c7-0e705a07cb34",
   "metadata": {},
   "outputs": [],
   "source": [
    "u_dest_3 = icepack.interpolate(u_tmp_3, V_dest_3)"
   ]
  },
  {
   "cell_type": "code",
   "execution_count": null,
   "id": "657a5fa0-edf2-494c-bf5b-bb4652cec108",
   "metadata": {},
   "outputs": [],
   "source": [
    "fig, axes = plt.subplots()\n",
    "firedrake.plot(icepack.depth_average(u_dest_3), axes=axes);"
   ]
  },
  {
   "cell_type": "markdown",
   "id": "fb0899cf-0f09-4949-bde2-e6c1229c5825",
   "metadata": {},
   "source": [
    "#### Extend Mesh - Scalar Function"
   ]
  },
  {
   "cell_type": "code",
   "execution_count": null,
   "id": "a6ac2b6b-f024-427e-bcfd-1e5512971dba",
   "metadata": {},
   "outputs": [],
   "source": [
    "f_mesh_4 = np.linspace(0,20,len(f_data),endpoint=True)\n",
    "\n",
    "f_data_4 = f_interpolator(f_mesh_4)\n",
    "f_tmp_4 = xarray.DataArray(f_data_4, [f_mesh_4],'x')"
   ]
  },
  {
   "cell_type": "code",
   "execution_count": null,
   "id": "31271712-a323-4ba9-943b-c820a297260e",
   "metadata": {},
   "outputs": [],
   "source": [
    "dest_mesh1d_4 = firedrake.IntervalMesh(10, 20)\n",
    "dest_mesh_4 = firedrake.ExtrudedMesh(dest_mesh1d_4, layers=1)\n",
    "\n",
    "x_4, z_4 = firedrake.SpatialCoordinate(dest_mesh_4)\n",
    "Q_dest_4 = firedrake.FunctionSpace(dest_mesh_4, \"CG\", 2, vfamily=\"R\", vdegree=0)\n",
    "V_dest_4 = firedrake.FunctionSpace(dest_mesh_4, \"CG\", 2, vfamily=\"GL\", vdegree=2)\n",
    "\n",
    "f_dest_4 = icepack.interpolate(f_tmp_4, Q_dest_4)"
   ]
  },
  {
   "cell_type": "code",
   "execution_count": null,
   "id": "9169970f-14ca-4355-9477-8641e8344de6",
   "metadata": {},
   "outputs": [],
   "source": [
    "fig, axes = plt.subplots()\n",
    "firedrake.plot(icepack.depth_average(f_dest_4), axes=axes);"
   ]
  },
  {
   "cell_type": "markdown",
   "id": "61d93025-867e-44b3-8818-1a343f6b88f7",
   "metadata": {},
   "source": [
    "#### Extend Mesh - Vector Function"
   ]
  },
  {
   "cell_type": "code",
   "execution_count": null,
   "id": "ba6573cb-6905-4176-b975-cc021f1e94ea",
   "metadata": {},
   "outputs": [],
   "source": [
    "u_mesh_4 = np.linspace(0,20,len(u_data), endpoint=True)\n",
    "\n",
    "u_data_4 = u_interpolator(u_mesh_4)\n",
    "u_tmp_4 = xarray.DataArray(u_data_4, [u_mesh_4],'x')\n",
    "\n",
    "u_dest_4 = icepack.interpolate(u_tmp_4, V_dest_4)\n",
    "\n"
   ]
  },
  {
   "cell_type": "code",
   "execution_count": null,
   "id": "2dfaafd4-587d-4bab-8049-14d7f1eab00d",
   "metadata": {},
   "outputs": [],
   "source": [
    "fig, axes = plt.subplots()\n",
    "firedrake.plot(icepack.depth_average(u_dest_4), axes=axes);"
   ]
  },
  {
   "cell_type": "code",
   "execution_count": null,
   "id": "6506c252-7e39-4b19-8310-18df5768cf40",
   "metadata": {},
   "outputs": [],
   "source": []
  }
 ],
 "metadata": {
  "kernelspec": {
   "display_name": "firedrake",
   "language": "python",
   "name": "firedrake"
  },
  "language_info": {
   "codemirror_mode": {
    "name": "ipython",
    "version": 3
   },
   "file_extension": ".py",
   "mimetype": "text/x-python",
   "name": "python",
   "nbconvert_exporter": "python",
   "pygments_lexer": "ipython3",
   "version": "3.10.12"
  }
 },
 "nbformat": 4,
 "nbformat_minor": 5
}
